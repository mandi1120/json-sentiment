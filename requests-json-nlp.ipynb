{
 "cells": [
  {
   "cell_type": "markdown",
   "metadata": {
    "tags": []
   },
   "source": [
    "# Web Mining and Applied NLP (44-620)\n",
    "\n",
    "## Requests, JSON, and NLP\n",
    "\n",
    "### Student Name: Amanda Hanway\n",
    "### Repository: https://github.com/mandi1120/json-sentiment\n",
    "\n",
    "Perform the tasks described in the Markdown cells below.  When you have completed the assignment make sure your code cells have all been run (and have output beneath them) and ensure you have committed and pushed ALL of your changes to your assignment repository.\n",
    "\n",
    "Make sure you have [installed spaCy and its pipeline](https://spacy.io/usage#quickstart) and [spaCyTextBlob](https://spacy.io/universe/project/spacy-textblob)\n",
    "\n",
    "Every question that requires you to write code will have a code cell underneath it; you may either write your entire solution in that cell or write it in a python file (`.py`), then import and run the appropriate code to answer the question.\n",
    "\n",
    "This assignment requires that you write additional files (either JSON or pickle files); make sure to submit those files in your repository as well."
   ]
  },
  {
   "cell_type": "markdown",
   "metadata": {},
   "source": [
    "### QUESTION 1"
   ]
  },
  {
   "cell_type": "markdown",
   "metadata": {},
   "source": [
    "1. The following code accesses the [lyrics.ovh](https://lyricsovh.docs.apiary.io/#reference/0/lyrics-of-a-song/search) public api, searches for the lyrics of a song, and stores it in a dictionary object.  Write the resulting json to a file (either a JSON file or a pickle file; you choose). You will read in the contents of this file for future questions so we do not need to frequently access the API."
   ]
  },
  {
   "cell_type": "code",
   "execution_count": 5,
   "metadata": {},
   "outputs": [],
   "source": [
    "import requests\n",
    "import json\n",
    "import xmltodict\n",
    "\n",
    "# Note: lyrics.ovh no longer works. Using chartLyrics API for this exercise.\n",
    "\n",
    "# chartlyrics api result is xml format\n",
    "result = requests.get('http://api.chartlyrics.com/apiv1.asmx/SearchLyricDirect?artist=tracy%20chapman&song=fast%20car').text\n",
    "# print(\"Chartlyrics api result:\", type(result))\n",
    "# print(result)\n",
    "      \n",
    "# convert xml format to dict\n",
    "o = xmltodict.parse(result)\n",
    "xmlstr = json.dumps(o)  \n",
    "res = json.loads(xmlstr)\n",
    "# print(\"Converted type:\",type(res))\n",
    "# print(res)\n",
    "\n",
    "# Write the resulting jsonDict to a file  \n",
    "with open(\"lyrics.json\", \"w\") as outfile:\n",
    "    json.dump(res, outfile)   \n",
    "    "
   ]
  },
  {
   "cell_type": "markdown",
   "metadata": {},
   "source": [
    "### QUESTION 2"
   ]
  },
  {
   "cell_type": "markdown",
   "metadata": {},
   "source": [
    "2. Read in the contents of your file.  Print the lyrics of the song (not the entire dictionary!) and use spaCyTextBlob to perform sentiment analysis on the lyrics.  Print the polarity score of the sentiment analysis.  Given that the range of the polarity score is `[-1.0,1.0]` which corresponds to how positive or negative the text in question is, do you think the lyrics have a more positive or negative connotaion?  Answer this question in a comment in your code cell."
   ]
  },
  {
   "cell_type": "code",
   "execution_count": 6,
   "metadata": {},
   "outputs": [
    {
     "name": "stdout",
     "output_type": "stream",
     "text": [
      "Lyrics:  You've got a fast car\n",
      "I wanna a ticket to anywhere\n",
      "Maybe we make a deal\n",
      "Maybe together we can get somewhere\n",
      "Any place is better\n",
      "Starting from zero, got nothing to lose\n",
      "Maybe we'll make something\n",
      "Me, myself, I've got nothing to prove\n",
      "\n",
      "You've got a fast car\n",
      "I've got a plan to get us out of here\n",
      "Been working at the convenience store\n",
      "Managed to save just a little bit of money\n",
      "Won't have to drive too far\n",
      "Just cross the border and into the city\n",
      "You and I can both get jobs\n",
      "And finally see what it means to be living\n",
      "\n",
      "See my old man's got a problem\n",
      "Live with the bottle, that's the way it is\n",
      "He says his body's too old for working\n",
      "His body's too young, to look like his\n",
      "When mama went off and left him\n",
      "She wanted more from life than he could give\n",
      "I said somebody's got to take care of him\n",
      "So I quit school and that's what I did\n",
      "\n",
      "You've got a fast car\n",
      "Is it fast enough so we can fly away?\n",
      "We gotta make a decision\n",
      "Leave tonight or live and die this way\n",
      "\n",
      "Say remember when we were driving, driving in your car\n",
      "Speed so fast it felt like I was drunk\n",
      "City lights lay out before us\n",
      "And your arm felt nice wrapped 'round my shoulder\n",
      "And I had a feeling that I belonged\n",
      "I had a feeling I could be someone, be someone, be someone\n",
      "\n",
      "You've got a a fast car\n",
      "We go cruising entertain ourselves\n",
      "You still ain't got a job\n",
      "Now I work in the market as a checkout girl\n",
      "I know things will get better\n",
      "You'll find work and I'll get promoted\n",
      "We'll move out of the shelter\n",
      "Buy a bigger house and live in the suburbs\n",
      "\n",
      "Say remember when we were driving, driving in your car\n",
      "Speeds so fast it felt like I was drunk\n",
      "City lights lay out before us\n",
      "And your arm felt nice wrapped 'round my shoulder\n",
      "And I had a feeling that I belonged\n",
      "I had a feeling I could be someone, be someone, be someone\n",
      "\n",
      "You've got a fast car\n",
      "I've got a job that pays all our bills\n",
      "You stay out drinking late at the bar\n",
      "See more of your friends than you do of your kids\n",
      "I'd always hoped for better\n",
      "Thought maybe together you and me'd find it\n",
      "I got no plans and I ain't going nowhere\n",
      "So take your fast car and keep on driving\n",
      "\n",
      "You've got a fast car\n",
      "Is it fast enough so you can fly away?\n",
      "You gotta make a decision\n",
      "Leave tonight or live and die this way\n",
      "---------------------------\n",
      "Polarity score: 0.15995011086474506\n",
      "Sentiment: Positive\n",
      "Result: This song has a Positive connotation with a polarity score of 0.15995011086474506\n"
     ]
    }
   ],
   "source": [
    "import json\n",
    "import spacy\n",
    "from spacytextblob.spacytextblob import SpacyTextBlob\n",
    "\n",
    "# Opening JSON file\n",
    "with open('lyrics.json') as openfile:\n",
    "    # Reading from json file\n",
    "    json_object = json.load(openfile)\n",
    "    \n",
    "#print(type(json_object), json_object)\n",
    "print(\"Lyrics: \", json_object['GetLyricResult']['Lyric'])\n",
    "\n",
    "# use spaCyTextBlob to perform sentiment analysis on the lyrics.  \n",
    "nlp = spacy.load('en_core_web_sm')\n",
    "text = str(json_object['GetLyricResult']['Lyric'])\n",
    "nlp.add_pipe(\"spacytextblob\")\n",
    "doc = nlp(text)\n",
    "\n",
    "polarity = doc._.blob.polarity\n",
    "sentiment = ''\n",
    "if polarity > 0:\n",
    "    sentiment = \"Positive\"\n",
    "else:\n",
    "    sentiment = \"Negative\"\n",
    "\n",
    "# Print the polarity score\n",
    "print(\"---------------------------\")    \n",
    "print(\"Polarity score:\", polarity)    \n",
    "print(\"Sentiment:\", sentiment)\n",
    "print(\"Result: This song has a\", sentiment, \"connotation with a polarity score of\", polarity)\n",
    "\n",
    "###############################################################\n",
    "##### Question: #####\n",
    "# Given that the range of the polarity score is [-1.0,1.0], which corresponds to how positive or negative the text in question is, \n",
    "# do you think the lyrics have a more positive or negative connotation? Answer this question in a comment in your code cell.\n",
    "##### Answer: #####\n",
    "# The score of 0.16 matches my understanding of the song's lyrics.  \n",
    "# Fast Car is about starting over after facing challenges. \n",
    "# The lyrics are not extremely positive, but give a slight sense of hope that aligns with the score.\n"
   ]
  },
  {
   "cell_type": "markdown",
   "metadata": {},
   "source": [
    "### QUESTION 3"
   ]
  },
  {
   "cell_type": "markdown",
   "metadata": {},
   "source": [
    "3. Write a function that takes an artist, song, and filename, accesses the lyrics.ovh api to get the song lyrics, and writes the results to the specified filename.  Test this function by getting the lyrics to any four songs of your choice and storing them in different files."
   ]
  },
  {
   "cell_type": "code",
   "execution_count": 7,
   "metadata": {},
   "outputs": [],
   "source": [
    "import requests\n",
    "import json\n",
    "import xmltodict\n",
    "\n",
    "def lyric_to_file(artist, song, filename):     \n",
    "    \n",
    "    # chartlyrics api result is xml format\n",
    "    result = requests.get('http://api.chartlyrics.com/apiv1.asmx/SearchLyricDirect?artist='+artist+'&song='+song).text\n",
    "    \n",
    "    # convert xml format to json dict\n",
    "    o = xmltodict.parse(result)\n",
    "    xmlstr = json.dumps(o)  \n",
    "    res = json.loads(xmlstr)\n",
    "\n",
    "    # Write the resulting jsonDict to a file  \n",
    "    with open(filename, \"w\") as outfile:\n",
    "        json.dump(res, outfile)   \n",
    "\n",
    "lyric_to_file(\"cranberries\", \"zombie\", \"zombie.json\")\n",
    "lyric_to_file(\"red hot chili peppers\", \"soul to squeeze\", \"soul_to_squeeze.json\")\n",
    "lyric_to_file(\"no doubt\", \"spiderwebs\", \"spiderwebs.json\")\n",
    "lyric_to_file(\"soul asylum\", \"runaway train\", \"runaway_train.json\")"
   ]
  },
  {
   "cell_type": "markdown",
   "metadata": {},
   "source": [
    "### QUESTION 4"
   ]
  },
  {
   "cell_type": "markdown",
   "metadata": {},
   "source": [
    "4. Write a function that takes the name of a file that contains song lyrics, loads the file, performs sentiment analysis, and returns the polarity score.  Use this function to print the polarity scores (with the name of the song) of the three files you created in question 3.  Does the reported polarity match your understanding of the song's lyrics? Why or why not do you think that might be?  Answer the questions in either a comment in the code cell or a markdown cell under the code cell."
   ]
  },
  {
   "cell_type": "code",
   "execution_count": 8,
   "metadata": {},
   "outputs": [
    {
     "name": "stdout",
     "output_type": "stream",
     "text": [
      "Song: Zombie\n",
      "Artist: The Cranberries\n",
      "Polarity Score: -0.075\n",
      "Sentiment Result: Negative\n",
      "\n",
      "Song: Soul to Squeeze\n",
      "Artist: Red Hot Chili Peppers\n",
      "Polarity Score: 0.13059523809523813\n",
      "Sentiment Result: Positive\n",
      "\n",
      "Song: Spiderwebs\n",
      "Artist: No Doubt\n",
      "Polarity Score: -0.014880952380952384\n",
      "Sentiment Result: Negative\n",
      "\n",
      "Song: Runaway Train\n",
      "Artist: Soul Asylum\n",
      "Polarity Score: -0.006798245614035087\n",
      "Sentiment Result: Negative\n",
      "\n"
     ]
    }
   ],
   "source": [
    "import json\n",
    "import spacy\n",
    "from spacytextblob.spacytextblob import SpacyTextBlob\n",
    "\n",
    "def sentiment_analysis(filename):     \n",
    "   \n",
    "    # Opening & reading JSON file\n",
    "    with open(filename) as openfile:\n",
    "        json_object = json.load(openfile)\n",
    "\n",
    "    # use spaCyTextBlob to perform sentiment analysis on the lyrics.  \n",
    "    nlp = spacy.load('en_core_web_sm')\n",
    "    text = str(json_object['GetLyricResult']['Lyric'])\n",
    "    nlp.add_pipe(\"spacytextblob\")\n",
    "    doc = nlp(text)\n",
    "    polarity = doc._.blob.polarity\n",
    "    sentiment = ''    \n",
    "    if polarity > 0:\n",
    "        sentiment = \"Positive\"\n",
    "    else:\n",
    "        sentiment = \"Negative\"\n",
    "        \n",
    "    # Print the polarity score of the sentiment analysis.     \n",
    "    print(\"Song:\", json_object['GetLyricResult']['LyricSong'])\n",
    "    print(\"Artist:\", json_object['GetLyricResult']['LyricArtist'])\n",
    "    print(\"Polarity Score:\", polarity)    \n",
    "    print(\"Sentiment Result:\", sentiment)\n",
    "    print(\"\")\n",
    "    \n",
    "sentiment_analysis(\"zombie.json\")\n",
    "sentiment_analysis(\"soul_to_squeeze.json\")\n",
    "sentiment_analysis(\"spiderwebs.json\")\n",
    "sentiment_analysis(\"runaway_train.json\")"
   ]
  },
  {
   "cell_type": "markdown",
   "metadata": {},
   "source": [
    "##### Does the reported polarity match your understanding of the song's lyrics? Why or why not do you think that might be?  Answer the questions in either a comment in the code cell or a markdown cell under the code cell.\n",
    "\n",
    "Song: Zombie<br/>\n",
    "The polarity score of -0.075 matches my understanding of the song's lyrics. <br/> \n",
    "The song \"Zombie\" is about violence, so it makes sense that it would have a negative score and sentiment.<br/>\n",
    "\n",
    "Song: Soul to Squeeze<br/>\n",
    "The polarity score of 0.13 is higher than I would expect for this song.  <br/>\n",
    "The lyrics refer to mental illness and the song is written about addiction. I would have expected a negative score, and it is interesting the result was on the positive side.\n",
    "\n",
    "Song: Spiderwebs<br/>\n",
    "The polarity score of -0.015 matches my understanding of lyrics.<br/>\n",
    "The song is about a stalker, and screening phone calls to avoid them. The negative score matches the song's intention.\n",
    "\n",
    "Song: Runaway Train<br/>\n",
    "The polarity score of -0.007 matches my understanding of lyrics.<br/>\n",
    "The song is about depression. The negative score matches the song's intention.\n",
    "\n"
   ]
  },
  {
   "cell_type": "code",
   "execution_count": null,
   "metadata": {},
   "outputs": [],
   "source": []
  }
 ],
 "metadata": {
  "kernelspec": {
   "display_name": "Python 3 (ipykernel)",
   "language": "python",
   "name": "python3"
  },
  "language_info": {
   "codemirror_mode": {
    "name": "ipython",
    "version": 3
   },
   "file_extension": ".py",
   "mimetype": "text/x-python",
   "name": "python",
   "nbconvert_exporter": "python",
   "pygments_lexer": "ipython3",
   "version": "3.9.7"
  }
 },
 "nbformat": 4,
 "nbformat_minor": 4
}
